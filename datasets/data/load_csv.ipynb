{
 "cells": [
  {
   "cell_type": "code",
   "execution_count": 1,
   "id": "b51b4c87",
   "metadata": {},
   "outputs": [],
   "source": [
    "import pandas as pd\n",
    "\n",
    "math_cleaned = pd.read_csv('math_cleaned.csv')\n",
    "med_cleaned = pd.read_csv('med_cleaned.csv')\n",
    "openQA_cleaned = pd.read_csv('openQA_cleaned.csv')"
   ]
  },
  {
   "cell_type": "code",
   "execution_count": 2,
   "id": "a60a494a",
   "metadata": {},
   "outputs": [
    {
     "data": {
      "text/html": [
       "<div>\n",
       "<style scoped>\n",
       "    .dataframe tbody tr th:only-of-type {\n",
       "        vertical-align: middle;\n",
       "    }\n",
       "\n",
       "    .dataframe tbody tr th {\n",
       "        vertical-align: top;\n",
       "    }\n",
       "\n",
       "    .dataframe thead th {\n",
       "        text-align: right;\n",
       "    }\n",
       "</style>\n",
       "<table border=\"1\" class=\"dataframe\">\n",
       "  <thead>\n",
       "    <tr style=\"text-align: right;\">\n",
       "      <th></th>\n",
       "      <th>input</th>\n",
       "      <th>output</th>\n",
       "      <th>llama_output</th>\n",
       "      <th>distill_llama_output</th>\n",
       "    </tr>\n",
       "  </thead>\n",
       "  <tbody>\n",
       "    <tr>\n",
       "      <th>0</th>\n",
       "      <td>Janet’s ducks lay 16 eggs per day. She eats th...</td>\n",
       "      <td>Janet sells 16 - 3 - 4 = &lt;&lt;16-3-4=9&gt;&gt;9 duck eg...</td>\n",
       "      <td>To find out how much Janet makes every day at ...</td>\n",
       "      <td>First, I need to determine how many eggs Janet...</td>\n",
       "    </tr>\n",
       "    <tr>\n",
       "      <th>1</th>\n",
       "      <td>A robe takes 2 bolts of blue fiber and half th...</td>\n",
       "      <td>It takes 2/2=&lt;&lt;2/2=1&gt;&gt;1 bolt of white fiber\\nS...</td>\n",
       "      <td>To find the total number of bolts needed, we f...</td>\n",
       "      <td>I need to determine the total number of bolts ...</td>\n",
       "    </tr>\n",
       "  </tbody>\n",
       "</table>\n",
       "</div>"
      ],
      "text/plain": [
       "                                               input  \\\n",
       "0  Janet’s ducks lay 16 eggs per day. She eats th...   \n",
       "1  A robe takes 2 bolts of blue fiber and half th...   \n",
       "\n",
       "                                              output  \\\n",
       "0  Janet sells 16 - 3 - 4 = <<16-3-4=9>>9 duck eg...   \n",
       "1  It takes 2/2=<<2/2=1>>1 bolt of white fiber\\nS...   \n",
       "\n",
       "                                        llama_output  \\\n",
       "0  To find out how much Janet makes every day at ...   \n",
       "1  To find the total number of bolts needed, we f...   \n",
       "\n",
       "                                distill_llama_output  \n",
       "0  First, I need to determine how many eggs Janet...  \n",
       "1  I need to determine the total number of bolts ...  "
      ]
     },
     "execution_count": 2,
     "metadata": {},
     "output_type": "execute_result"
    }
   ],
   "source": [
    "math_cleaned.head(2)"
   ]
  },
  {
   "cell_type": "code",
   "execution_count": 3,
   "id": "0f74e3ce",
   "metadata": {},
   "outputs": [
    {
     "data": {
      "text/html": [
       "<div>\n",
       "<style scoped>\n",
       "    .dataframe tbody tr th:only-of-type {\n",
       "        vertical-align: middle;\n",
       "    }\n",
       "\n",
       "    .dataframe tbody tr th {\n",
       "        vertical-align: top;\n",
       "    }\n",
       "\n",
       "    .dataframe thead th {\n",
       "        text-align: right;\n",
       "    }\n",
       "</style>\n",
       "<table border=\"1\" class=\"dataframe\">\n",
       "  <thead>\n",
       "    <tr style=\"text-align: right;\">\n",
       "      <th></th>\n",
       "      <th>document</th>\n",
       "      <th>input</th>\n",
       "      <th>output</th>\n",
       "      <th>llama_output</th>\n",
       "      <th>distill_llama_output</th>\n",
       "    </tr>\n",
       "  </thead>\n",
       "  <tbody>\n",
       "    <tr>\n",
       "      <th>0</th>\n",
       "      <td>The Current Status of Telemedicine Technology ...</td>\n",
       "      <td>-\\t29\\n-\\tMale\\n-\\tUSA\\n\\nI’m very confused wh...</td>\n",
       "      <td>Nothing to be worried about. Depending upon th...</td>\n",
       "      <td>The discrepancy in white blood cell (WBC) coun...</td>\n",
       "      <td>Okay, so I'm trying to figure out why differen...</td>\n",
       "    </tr>\n",
       "    <tr>\n",
       "      <th>1</th>\n",
       "      <td>Preterminal host dendritic cells in irradiated...</td>\n",
       "      <td>If you’re reading this, thank you. It’s been a...</td>\n",
       "      <td>Acne is a chronic disease, and nothing that yo...</td>\n",
       "      <td>Based on the information provided, it seems li...</td>\n",
       "      <td>Okay, so I'm trying to figure out why antibiot...</td>\n",
       "    </tr>\n",
       "  </tbody>\n",
       "</table>\n",
       "</div>"
      ],
      "text/plain": [
       "                                            document  \\\n",
       "0  The Current Status of Telemedicine Technology ...   \n",
       "1  Preterminal host dendritic cells in irradiated...   \n",
       "\n",
       "                                               input  \\\n",
       "0  -\\t29\\n-\\tMale\\n-\\tUSA\\n\\nI’m very confused wh...   \n",
       "1  If you’re reading this, thank you. It’s been a...   \n",
       "\n",
       "                                              output  \\\n",
       "0  Nothing to be worried about. Depending upon th...   \n",
       "1  Acne is a chronic disease, and nothing that yo...   \n",
       "\n",
       "                                        llama_output  \\\n",
       "0  The discrepancy in white blood cell (WBC) coun...   \n",
       "1  Based on the information provided, it seems li...   \n",
       "\n",
       "                                distill_llama_output  \n",
       "0  Okay, so I'm trying to figure out why differen...  \n",
       "1  Okay, so I'm trying to figure out why antibiot...  "
      ]
     },
     "execution_count": 3,
     "metadata": {},
     "output_type": "execute_result"
    }
   ],
   "source": [
    "med_cleaned.head(2)"
   ]
  },
  {
   "cell_type": "code",
   "execution_count": 4,
   "id": "316135a0",
   "metadata": {},
   "outputs": [
    {
     "data": {
      "text/html": [
       "<div>\n",
       "<style scoped>\n",
       "    .dataframe tbody tr th:only-of-type {\n",
       "        vertical-align: middle;\n",
       "    }\n",
       "\n",
       "    .dataframe tbody tr th {\n",
       "        vertical-align: top;\n",
       "    }\n",
       "\n",
       "    .dataframe thead th {\n",
       "        text-align: right;\n",
       "    }\n",
       "</style>\n",
       "<table border=\"1\" class=\"dataframe\">\n",
       "  <thead>\n",
       "    <tr style=\"text-align: right;\">\n",
       "      <th></th>\n",
       "      <th>system_prompt</th>\n",
       "      <th>input</th>\n",
       "      <th>output</th>\n",
       "      <th>llama_output</th>\n",
       "      <th>distill_llama_output</th>\n",
       "    </tr>\n",
       "  </thead>\n",
       "  <tbody>\n",
       "    <tr>\n",
       "      <th>0</th>\n",
       "      <td>You are an AI assistant. You will be given a t...</td>\n",
       "      <td>Answer the following question: Given the backg...</td>\n",
       "      <td>It is generally accepted that reaction time te...</td>\n",
       "      <td>To address David's report, we need to consider...</td>\n",
       "      <td>Okay, so I'm trying to figure out whether Grou...</td>\n",
       "    </tr>\n",
       "    <tr>\n",
       "      <th>1</th>\n",
       "      <td>You are an AI assistant. You will be given a t...</td>\n",
       "      <td>Who is allowed to read the guides ?\\n\\nTransla...</td>\n",
       "      <td>La question « Qui est autorisé à lire les guid...</td>\n",
       "      <td>La question de l'accès aux guides est une ques...</td>\n",
       "      <td>Okay, so I need to figure out who is allowed t...</td>\n",
       "    </tr>\n",
       "  </tbody>\n",
       "</table>\n",
       "</div>"
      ],
      "text/plain": [
       "                                       system_prompt  \\\n",
       "0  You are an AI assistant. You will be given a t...   \n",
       "1  You are an AI assistant. You will be given a t...   \n",
       "\n",
       "                                               input  \\\n",
       "0  Answer the following question: Given the backg...   \n",
       "1  Who is allowed to read the guides ?\\n\\nTransla...   \n",
       "\n",
       "                                              output  \\\n",
       "0  It is generally accepted that reaction time te...   \n",
       "1  La question « Qui est autorisé à lire les guid...   \n",
       "\n",
       "                                        llama_output  \\\n",
       "0  To address David's report, we need to consider...   \n",
       "1  La question de l'accès aux guides est une ques...   \n",
       "\n",
       "                                distill_llama_output  \n",
       "0  Okay, so I'm trying to figure out whether Grou...  \n",
       "1  Okay, so I need to figure out who is allowed t...  "
      ]
     },
     "execution_count": 4,
     "metadata": {},
     "output_type": "execute_result"
    }
   ],
   "source": [
    "openQA_cleaned.head(2)"
   ]
  }
 ],
 "metadata": {
  "kernelspec": {
   "display_name": "ChatEval",
   "language": "python",
   "name": "python3"
  },
  "language_info": {
   "codemirror_mode": {
    "name": "ipython",
    "version": 3
   },
   "file_extension": ".py",
   "mimetype": "text/x-python",
   "name": "python",
   "nbconvert_exporter": "python",
   "pygments_lexer": "ipython3",
   "version": "3.10.18"
  }
 },
 "nbformat": 4,
 "nbformat_minor": 5
}
