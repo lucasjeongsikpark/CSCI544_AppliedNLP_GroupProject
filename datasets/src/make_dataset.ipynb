{
 "cells": [
  {
   "cell_type": "code",
   "execution_count": 21,
   "id": "ea05892d",
   "metadata": {},
   "outputs": [
    {
     "name": "stdout",
     "output_type": "stream",
     "text": [
      "✅ CSV reloaded successfully:\n",
      "  GSM8K: (1319, 2)\n",
      "  MedRedQA+PubMed: (83, 3)\n",
      "  OpenOrca: (758, 3)\n"
     ]
    }
   ],
   "source": [
    "import pandas as pd\n",
    "\n",
    "def load_csv_safe(path):\n",
    "    for enc in ('utf-8-sig', 'utf-8', 'cp949', 'euc-kr', 'latin-1'):\n",
    "        try:\n",
    "            return pd.read_csv(path, encoding=enc)\n",
    "        except Exception:\n",
    "            continue\n",
    "    raise RuntimeError(f\"❌ Failed to read {path} with common encodings\")\n",
    "\n",
    "# gsm8k_df = load_csv_safe('../data/gsm8k_prepared.csv')\n",
    "# medredqa_pubmed_df = load_csv_safe('../data/medredqa_pubmed_prepared.csv')\n",
    "# openorca_df = load_csv_safe('../data/openorca_prepared.csv')\n",
    "df_gsm8k = load_csv_safe('../data/math.csv')\n",
    "df_medredqa = load_csv_safe('../data/med.csv')\n",
    "df_openorca = load_csv_safe('../data/openQA.csv')\n",
    "\n",
    "print(\"✅ CSV reloaded successfully:\")\n",
    "print(\"  GSM8K:\", df_gsm8k.shape)\n",
    "print(\"  MedRedQA+PubMed:\", df_medredqa.shape)\n",
    "print(\"  OpenOrca:\", df_openorca.shape)\n"
   ]
  }
 ],
 "metadata": {
  "kernelspec": {
   "display_name": "ChatEval",
   "language": "python",
   "name": "python3"
  },
  "language_info": {
   "codemirror_mode": {
    "name": "ipython",
    "version": 3
   },
   "file_extension": ".py",
   "mimetype": "text/x-python",
   "name": "python",
   "nbconvert_exporter": "python",
   "pygments_lexer": "ipython3",
   "version": "3.10.18"
  }
 },
 "nbformat": 4,
 "nbformat_minor": 5
}
